{
  "nbformat": 4,
  "nbformat_minor": 0,
  "metadata": {
    "colab": {
      "provenance": [],
      "authorship_tag": "ABX9TyOEofpR4mriEHMtfJq3tw2m",
      "include_colab_link": true
    },
    "kernelspec": {
      "name": "python3",
      "display_name": "Python 3"
    },
    "language_info": {
      "name": "python"
    }
  },
  "cells": [
    {
      "cell_type": "markdown",
      "metadata": {
        "id": "view-in-github",
        "colab_type": "text"
      },
      "source": [
        "<a href=\"https://colab.research.google.com/github/AylinNaebzadeh/Complex-Dynamic-Network/blob/main/Assignment_2_Wiki_Vote.ipynb\" target=\"_parent\"><img src=\"https://colab.research.google.com/assets/colab-badge.svg\" alt=\"Open In Colab\"/></a>"
      ]
    },
    {
      "cell_type": "markdown",
      "source": [
        "**Directed** graph (each unordered pair of nodes is saved once): Wiki-Vote.txt \n",
        "Wikipedia voting on promotion to administratorship (till January 2008). Directed edge A->B means user A voted on B becoming Wikipedia administrator.\n",
        "\n",
        "**Nodes**: 7115 \n",
        "\n",
        "**Edges**: 103689"
      ],
      "metadata": {
        "id": "uNrPNJdiuIft"
      }
    },
    {
      "cell_type": "code",
      "execution_count": 1,
      "metadata": {
        "id": "cFAudmdQtjef"
      },
      "outputs": [],
      "source": [
        "import networkx as nx\n",
        "import pandas as pd\n",
        "import matplotlib.pyplot as plt\n",
        "import statistics\n",
        "from itertools import chain\n",
        "from collections import Counter\n",
        "from operator import itemgetter\n",
        "import pickle\n",
        "import json"
      ]
    },
    {
      "cell_type": "code",
      "source": [
        "G = nx.read_edgelist(\"Wiki-Vote.txt\", nodetype=int, create_using=nx.DiGraph(), comments='#')\n",
        "number_of_nodes = G.number_of_nodes()\n",
        "number_of_edges = G.number_of_edges()\n",
        "print(f\"The number of nodes in the graph network is: {number_of_nodes}\")\n",
        "print(f\"The number of edges in the graph network is: {number_of_edges}\")"
      ],
      "metadata": {
        "colab": {
          "base_uri": "https://localhost:8080/"
        },
        "id": "7BbLjW-puq0O",
        "outputId": "067f6212-5f10-45ff-ebb5-5ac7f0d3ae72"
      },
      "execution_count": 2,
      "outputs": [
        {
          "output_type": "stream",
          "name": "stdout",
          "text": [
            "The number of nodes in the graph network is: 7115\n",
            "The number of edges in the graph network is: 103689\n"
          ]
        }
      ]
    },
    {
      "cell_type": "code",
      "source": [
        "plt.figure(figsize =(12, 8))\n",
        "nx.draw_networkx(G, with_labels = True)"
      ],
      "metadata": {
        "id": "jBhNlApXuydV"
      },
      "execution_count": null,
      "outputs": []
    },
    {
      "cell_type": "code",
      "source": [
        "degrees = G.degree()\n",
        "degree_values = [v for k, v in degrees]\n",
        "sum_of_edges = sum(degree_values)\n",
        "\n",
        "# Calculating the average is just a matter of division by the number of nodes.\n",
        "average_degree = sum_of_edges / float(number_of_nodes)\n",
        "print(f\"The average degree in the graph network is: {average_degree}\")\n",
        "\n",
        "# For Directed Graphs I think is better to calculate both In-degree and Out-degree values.\n",
        "avg_in_degree_value = sum(d for n, d in G.in_degree()) / float(number_of_nodes)\n",
        "print(f\"The average in degree in the graph network is: {avg_in_degree_value}\")\n",
        "\n",
        "avg_out_degree_value = sum(d for n, d in G.out_degree()) / float(number_of_nodes)\n",
        "print(f\"The average out degree in the graph network is: {avg_out_degree_value}\")\n"
      ],
      "metadata": {
        "colab": {
          "base_uri": "https://localhost:8080/"
        },
        "id": "sLitG9Lsu7Ll",
        "outputId": "ae86328a-1f40-4d79-e0b3-6fc5fa25e13b"
      },
      "execution_count": 4,
      "outputs": [
        {
          "output_type": "stream",
          "name": "stdout",
          "text": [
            "The average degree in the graph network is: 29.146591707659873\n",
            "The average in degree in the graph network is: 14.573295853829936\n",
            "The average out degree in the graph network is: 14.573295853829936\n"
          ]
        }
      ]
    },
    {
      "cell_type": "code",
      "source": [
        "graph_density = nx.density(G)\n",
        "print(f\"The density of the graph network is: {graph_density}\")"
      ],
      "metadata": {
        "colab": {
          "base_uri": "https://localhost:8080/"
        },
        "id": "lRuzHoXmvJpC",
        "outputId": "69e5c835-ba36-43b3-afce-04e515f98ea3"
      },
      "execution_count": 5,
      "outputs": [
        {
          "output_type": "stream",
          "name": "stdout",
          "text": [
            "The density of the graph network is: 0.0020485375110809584\n"
          ]
        }
      ]
    },
    {
      "cell_type": "code",
      "source": [
        "\"\"\"\n",
        "  Transitiity is a global metric for the network.\n",
        "\n",
        "      Σ(triangles centered at node i)\n",
        "  C = ----------------------------------\n",
        "      Σ(triples centered at node i)\n",
        "\"\"\"\n",
        "graph_transitivity = nx.transitivity(G)\n",
        "print(f\"The transitivity of the graph network is: {graph_transitivity}\")"
      ],
      "metadata": {
        "colab": {
          "base_uri": "https://localhost:8080/"
        },
        "id": "NlQTPsHuvNaf",
        "outputId": "1e9bd86e-2b61-4e56-bbde-bf6a4a5879dd"
      },
      "execution_count": 6,
      "outputs": [
        {
          "output_type": "stream",
          "name": "stdout",
          "text": [
            "The transitivity of the graph network is: 0.05285122817867548\n"
          ]
        }
      ]
    },
    {
      "cell_type": "code",
      "source": [
        "\"\"\"\n",
        "          triangles centered at node i           1\n",
        "  C(i) = -------------------------------,  C = ----- Σ(i)C(i)\n",
        "          triples centered at node i             N\n",
        "        \n",
        "\"\"\"\n",
        "average_clustering = nx.average_clustering(G)\n",
        "print(f\"The average clustering value of the graph network is: {average_clustering}\")"
      ],
      "metadata": {
        "colab": {
          "base_uri": "https://localhost:8080/"
        },
        "id": "DZb_7ZwyvRmK",
        "outputId": "7de8dc80-f130-4a54-e853-fcd9846da5c8"
      },
      "execution_count": 7,
      "outputs": [
        {
          "output_type": "stream",
          "name": "stdout",
          "text": [
            "The average clustering value of the graph network is: 0.08156344522820935\n"
          ]
        }
      ]
    },
    {
      "cell_type": "code",
      "source": [
        "network_diameter = max([max(j.values()) for (i,j) in nx.shortest_path_length(G)])\n",
        "print(f\"The diameter in the graph network is: {network_diameter}\")"
      ],
      "metadata": {
        "colab": {
          "base_uri": "https://localhost:8080/"
        },
        "id": "88UuubCWvVxz",
        "outputId": "e0d28ec7-89df-44b6-aad3-f41d9f50d747"
      },
      "execution_count": 8,
      "outputs": [
        {
          "output_type": "stream",
          "name": "stdout",
          "text": [
            "The diameter in the graph network is: 10\n"
          ]
        }
      ]
    },
    {
      "cell_type": "code",
      "source": [
        "path_lengths = (y.values() for (x, y) in nx.shortest_path_length(G))\n",
        "average_shortest_path_length = statistics.mean(chain.from_iterable(path_lengths))\n",
        "print(f\"The average shortest path length of the graph network is: {average_shortest_path_length}\")"
      ],
      "metadata": {
        "colab": {
          "base_uri": "https://localhost:8080/"
        },
        "id": "HxRoqFcLvbLT",
        "outputId": "8a01238e-83af-42f3-939e-cb901e276c29"
      },
      "execution_count": 9,
      "outputs": [
        {
          "output_type": "stream",
          "name": "stdout",
          "text": [
            "The average shortest path length of the graph network is: 3.339022669472223\n"
          ]
        }
      ]
    },
    {
      "cell_type": "code",
      "source": [
        "def degree_histogram_directed(G, in_degree=False, out_degree=False):\n",
        "    \"\"\"\n",
        "    Return a list of the frequency of each degree value.\n",
        "\n",
        "    Parameters\n",
        "    ----------\n",
        "    G : Networkx graph\n",
        "       A graph\n",
        "    in_degree : bool\n",
        "    out_degree : bool\n",
        "\n",
        "    Returns\n",
        "    -------\n",
        "    hist : list\n",
        "       A list of frequencies of degrees.\n",
        "       The degree values are the index in the list.\n",
        "\n",
        "    Notes\n",
        "    -----\n",
        "    Note: the bins are width one, hence len(list) can be large\n",
        "    (Order(number_of_edges))\n",
        "    \"\"\"\n",
        "    nodes = G.nodes()\n",
        "    if in_degree:\n",
        "        in_degree = dict(G.in_degree())\n",
        "        degseq=[in_degree.get(k,0) for k in nodes]\n",
        "    elif out_degree:\n",
        "        out_degree = dict(G.out_degree())\n",
        "        degseq=[out_degree.get(k,0) for k in nodes]\n",
        "    else:\n",
        "        degseq=[v for k, v in G.degree()]\n",
        "    dmax=max(degseq)+1\n",
        "    freq= [ 0 for d in range(dmax) ]\n",
        "    for d in degseq:\n",
        "        freq[d] += 1\n",
        "    return freq"
      ],
      "metadata": {
        "id": "C7jNKljXvxO4"
      },
      "execution_count": 10,
      "outputs": []
    },
    {
      "cell_type": "code",
      "source": [
        "# The in-degere and out-degree distribution are similar to each other, so they overlap with each other.\n",
        "# https://stackoverflow.com/a/62662992/20285050\n",
        "in_degree_freq = degree_histogram_directed(G, in_degree=True)\n",
        "out_degree_freq = degree_histogram_directed(G, out_degree=True)\n",
        "degrees = range(len(in_degree_freq))\n",
        "plt.figure(figsize=(12, 8)) \n",
        "plt.loglog(range(len(in_degree_freq)), in_degree_freq, 'go-', label='in-degree') \n",
        "plt.loglog(range(len(out_degree_freq)), out_degree_freq, 'bo-', label='out-degree')\n",
        "plt.xlabel('Degree')\n",
        "plt.ylabel('Frequency')\n",
        "plt.legend(loc=\"upper right\")"
      ],
      "metadata": {
        "colab": {
          "base_uri": "https://localhost:8080/",
          "height": 717
        },
        "id": "bKYKXTSEwOK6",
        "outputId": "0eb586e0-90b8-4b8d-ae1d-5dc1b99b64a1"
      },
      "execution_count": 11,
      "outputs": [
        {
          "output_type": "execute_result",
          "data": {
            "text/plain": [
              "<matplotlib.legend.Legend at 0x7f7e6ad79070>"
            ]
          },
          "metadata": {},
          "execution_count": 11
        },
        {
          "output_type": "display_data",
          "data": {
            "text/plain": [
              "<Figure size 1200x800 with 1 Axes>"
            ],
            "image/png": "[encoded data removed]"
          },
          "metadata": {}
        }
      ]
    },
    {
      "cell_type": "code",
      "source": [
        "r = nx.degree_pearson_correlation_coefficient(G)\n",
        "print(f\"The assortiativity value in the graph network is: {r}\")"
      ],
      "metadata": {
        "colab": {
          "base_uri": "https://localhost:8080/"
        },
        "id": "GsBOs-qcwVsH",
        "outputId": "4e110185-f69c-4c8e-bef1-9fa0651e7044"
      },
      "execution_count": 12,
      "outputs": [
        {
          "output_type": "stream",
          "name": "stdout",
          "text": [
            "The assortiativity value in the graph network is: -0.08324455771686812\n"
          ]
        }
      ]
    },
    {
      "cell_type": "code",
      "source": [
        "deg_centrality = nx.degree_centrality(G)\n",
        "deg_centrality_dict = {}\n",
        "# print(deg_centrality) → output limit exceeded\n",
        "\n",
        "with open(\"degree_centrality_data.txt\", \"w\") as fp:\n",
        "    json.dump(deg_centrality, fp)  # encode dict into JSON\n",
        "    print(\" **************** WRITE THE DEGREE CENTRALITY RESULTS INTO A FILE **************** \")\n",
        "\n",
        "with open(\"degree_centrality_data.txt\", \"r\") as fp:\n",
        "    # Load the dictionary from the file\n",
        "    deg_centrality_dict = json.load(fp)\n",
        "    print(\" **************** LOAD THE DEGREE CENTRALITY RESULTS FROM A FILE **************** \")\n",
        "\n",
        "c = Counter(deg_centrality_dict)\n",
        "top_5_nodes_based_on_degree_centrality = c.most_common(5)\n",
        "print(f\"The top five nodes with highest values in degree centrality measurement are: {top_5_nodes_based_on_degree_centrality}\")"
      ],
      "metadata": {
        "colab": {
          "base_uri": "https://localhost:8080/"
        },
        "id": "oBGWiwh9wmvz",
        "outputId": "738962e9-dfaf-4eb3-9460-456ab524cd30"
      },
      "execution_count": 13,
      "outputs": [
        {
          "output_type": "stream",
          "name": "stdout",
          "text": [
            " **************** WRITE THE DEGREE CENTRALITY RESULTS INTO A FILE **************** \n",
            " **************** LOAD THE DEGREE CENTRALITY RESULTS FROM A FILE **************** \n",
            "The top five nodes with highest values in degree centrality measurment are: [('2565', 0.16404273263986505), ('1549', 0.11695248805172898), ('766', 0.10865898228844531), ('11', 0.10444194545965702), ('1166', 0.10444194545965702)]\n"
          ]
        }
      ]
    },
    {
      "cell_type": "code",
      "source": [
        "close_centrality = nx.closeness_centrality(G)\n",
        "closeness_centrality_dict = {}\n",
        "\n",
        "\n",
        "with open(\"closeness_centrality_data.txt\", \"w\") as fp:\n",
        "    json.dump(close_centrality, fp)  # encode dict into JSON\n",
        "    print(\" **************** WRITE THE CLOSENESS CENTRALITY RESULTS INTO A FILE **************** \")\n",
        "\n",
        "with open(\"closeness_centrality_data.txt\", \"r\") as fp:\n",
        "    # Load the dictionary from the file\n",
        "    closeness_centrality_dict = json.load(fp)\n",
        "    print(\" **************** LOAD THE CLOSENESS CENTRALITY RESULTS FROM A FILE **************** \")\n",
        "\n",
        "c = Counter(closeness_centrality_dict)\n",
        "top_5_nodes_based_on_closeness_centrality = c.most_common(5)\n",
        "print(f\"The top five nodes with highest values in closeness centrality measurement are: {top_5_nodes_based_on_closeness_centrality}\")"
      ],
      "metadata": {
        "colab": {
          "base_uri": "https://localhost:8080/"
        },
        "id": "Xu8CvlIxwz_J",
        "outputId": "ac36b845-6f43-4218-dd20-877c4bd0efa1"
      },
      "execution_count": 14,
      "outputs": [
        {
          "output_type": "stream",
          "name": "stdout",
          "text": [
            " **************** WRITE THE CLOSENESS CENTRALITY RESULTS INTO A FILE **************** \n",
            " **************** LOAD THE CLOSENESS CENTRALITY RESULTS FROM A FILE **************** \n",
            "The top five nodes with highest values in closeness centrality measurement are: [('4037', 0.29648297322467565), ('15', 0.29148957578089163), ('2398', 0.2909224754389055), ('1549', 0.28192713494645066), ('2535', 0.27990070450658394)]\n"
          ]
        }
      ]
    },
    {
      "cell_type": "code",
      "source": [
        "bet_centrality = nx.betweenness_centrality(G, normalized = True, \n",
        "                                              endpoints = False)\n",
        "betweenness_centrality_dict = {}\n",
        "# parameters normalized\n",
        "# and endpoints ensure whether we normalize the value\n",
        "# and consider the endpoints respectively.\n",
        "\n",
        "with open(\"betweenness_centrality_data.txt\", \"w\") as fp:\n",
        "    json.dump(bet_centrality, fp)  # encode dict into JSON\n",
        "    print(\" **************** WRITE THE BETWEENNESS CENTRALITY RESULTS INTO A FILE **************** \")\n",
        "\n",
        "with open(\"betweenness_centrality_data.txt\", \"r\") as fp:\n",
        "    # Load the dictionary from the file\n",
        "    betweenness_centrality_dict = json.load(fp)\n",
        "    print(\" **************** LOAD THE BETWEENNESS CENTRALITY RESULTS FROM A FILE **************** \")\n",
        "\n",
        "c = Counter(betweenness_centrality_dict)\n",
        "top_5_nodes_based_on_bet_centrality = c.most_common(5)\n",
        "print(f\"The top five nodes with highest values in betweenness centrality measurement are: {top_5_nodes_based_on_bet_centrality}\")"
      ],
      "metadata": {
        "id": "J2ZkU0Kqw91C"
      },
      "execution_count": null,
      "outputs": []
    },
    {
      "cell_type": "code",
      "source": [
        "# https://stackoverflow.com/a/56708233/20285050\n",
        "\n",
        "eigenvector_centrality = nx.eigenvector_centrality_numpy(G)\n",
        "eigenvector_centrality_dict = {}\n",
        "\n",
        "\n",
        "with open(\"eigenvector_centrality_data.txt\", \"w\") as fp:\n",
        "    json.dump(eigenvector_centrality, fp)  # encode dict into JSON\n",
        "\n",
        "with open(\"eigenvector_centrality_data.txt\", \"r\") as fp:\n",
        "    # Load the dictionary from the file\n",
        "    eigenvector_centrality_dict = json.load(fp)\n",
        "\n",
        "c = Counter(eigenvector_centrality_dict)\n",
        "top_5_nodes_based_on_ev_centrality = c.most_common(5)\n",
        "print(f\"The top five nodes with highest values in eigenvector centrality measurment are: {top_5_nodes_based_on_ev_centrality}\")"
      ],
      "metadata": {
        "colab": {
          "base_uri": "https://localhost:8080/"
        },
        "id": "Jg4a8tGCxPeQ",
        "outputId": "543417c8-4c64-4abe-ede2-6be7742836e5"
      },
      "execution_count": 16,
      "outputs": [
        {
          "output_type": "stream",
          "name": "stdout",
          "text": [
            "The top five nodes with highest values in eigenvector centrality measurment are: [('2398', 0.11719694619047785), ('4037', 0.10896914427330909), ('15', 0.09818046327225058), ('4191', 0.09568565337813764), ('2625', 0.09549308500963676)]\n"
          ]
        }
      ]
    },
    {
      "cell_type": "code",
      "source": [
        "pr_centrality = nx.pagerank(G, alpha = 0.8)\n",
        "pr_centrality_dict = {}\n",
        "\n",
        "\n",
        "with open(\"page_rank_centrality_data.txt\", \"w\") as fp:\n",
        "    json.dump(pr_centrality, fp)  # encode dict into JSON\n",
        "\n",
        "with open(\"page_rank_centrality_data.txt\", \"r\") as fp:\n",
        "    # Load the dictionary from the file\n",
        "    pr_centrality_dict = json.load(fp)\n",
        "\n",
        "c = Counter(pr_centrality_dict)\n",
        "top_5_nodes_based_on_pr_centrality = c.most_common(5)\n",
        "print(f\"The top five nodes with highest values in page rank centrality measurment are: {top_5_nodes_based_on_pr_centrality}\")"
      ],
      "metadata": {
        "colab": {
          "base_uri": "https://localhost:8080/"
        },
        "id": "LK0a5pD4xaUW",
        "outputId": "59aaa5b9-b997-450b-87e8-f012e9a3690e"
      },
      "execution_count": 17,
      "outputs": [
        {
          "output_type": "stream",
          "name": "stdout",
          "text": [
            "The top five nodes with highest values in page rank centrality measurment are: [('4037', 0.004519226433837483), ('15', 0.0035425741336643926), ('6634', 0.003219620121295295), ('2625', 0.0031132124801420864), ('2470', 0.0025349987385096134)]\n"
          ]
        }
      ]
    },
    {
      "cell_type": "code",
      "source": [
        "N = G.order()\n",
        "sum_in_degrees = sum(d for n, d in G.in_degree())\n",
        "max_in = max(d for n, d in G.in_degree())\n",
        "centralization = float(N * max_in - sum_in_degrees) / (N - 1) ** 2\n",
        "print(f\"The in degree centralization value of the graph network is: {centralization}\")"
      ],
      "metadata": {
        "colab": {
          "base_uri": "https://localhost:8080/"
        },
        "id": "5v8N6YgoxgH9",
        "outputId": "bbf2784e-064f-45a3-888d-35f95699c897"
      },
      "execution_count": 18,
      "outputs": [
        {
          "output_type": "stream",
          "name": "stdout",
          "text": [
            "The in degree centralization value of the graph network is: 0.06219973223732792\n"
          ]
        }
      ]
    }
  ]
}