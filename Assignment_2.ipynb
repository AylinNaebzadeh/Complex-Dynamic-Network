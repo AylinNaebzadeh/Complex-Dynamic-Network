{
  "nbformat": 4,
  "nbformat_minor": 0,
  "metadata": {
    "colab": {
      "provenance": [],
      "authorship_tag": "ABX9TyPKukfb/w0R5ETpsTKAveHU",
      "include_colab_link": true
    },
    "kernelspec": {
      "name": "python3",
      "display_name": "Python 3"
    },
    "language_info": {
      "name": "python"
    }
  },
  "cells": [
    {
      "cell_type": "markdown",
      "metadata": {
        "id": "view-in-github",
        "colab_type": "text"
      },
      "source": [
        "<a href=\"https://colab.research.google.com/github/AylinNaebzadeh/Complex-Dynamic-Network/blob/main/Assignment_2.ipynb\" target=\"_parent\"><img src=\"https://colab.research.google.com/assets/colab-badge.svg\" alt=\"Open In Colab\"/></a>"
      ]
    },
    {
      "cell_type": "markdown",
      "source": [
        "**Directed** graph (each unordered pair of nodes is saved once): roadNet-CA.txt \n",
        "California road network\n",
        "\n",
        "**Nodes**: 1965206\n",
        "\n",
        "**Edges**: 5533214\n",
        "\n",
        "https://programminghistorian.org/en/lessons/exploring-and-analyzing-network-data-with-python"
      ],
      "metadata": {
        "id": "tTBjTZtPnAbj"
      }
    },
    {
      "cell_type": "code",
      "execution_count": 27,
      "metadata": {
        "id": "Y7y07DFslWaE"
      },
      "outputs": [],
      "source": [
        "import networkx as nx\n",
        "import pandas as pd\n",
        "import matplotlib.pyplot as plt\n",
        "import statistics\n",
        "from itertools import chain\n",
        "from collections import Counter\n",
        "from operator import itemgetter\n",
        "import pickle\n",
        "import json"
      ]
    },
    {
      "cell_type": "code",
      "source": [
        "G = nx.read_edgelist(\"roadNet-CA.txt\", nodetype=int, create_using=nx.DiGraph(), comments='#')\n",
        "number_of_nodes = G.number_of_nodes()\n",
        "number_of_edges = G.number_of_edges()\n",
        "print(f\"The number of nodes in the graph network is: {number_of_nodes}\")\n",
        "print(f\"The number of edges in the graph network is: {number_of_edges}\")"
      ],
      "metadata": {
        "colab": {
          "base_uri": "https://localhost:8080/"
        },
        "id": "7N3zJztnliRu",
        "outputId": "d04acf7b-774b-412b-ad72-9afb458cc4e3"
      },
      "execution_count": 30,
      "outputs": [
        {
          "output_type": "stream",
          "name": "stdout",
          "text": [
            "The number of nodes in the graph network is: 1073211\n",
            "The number of edges in the graph network is: 3021540\n"
          ]
        }
      ]
    },
    {
      "cell_type": "code",
      "source": [
        "plt.figure(figsize =(12, 8))\n",
        "nx.draw_networkx(G, with_labels = True)"
      ],
      "metadata": {
        "id": "tWGONbL6BovX"
      },
      "execution_count": null,
      "outputs": []
    },
    {
      "cell_type": "code",
      "source": [
        "degrees = G.degree()\n",
        "degree_values = [v for k, v in degrees]\n",
        "sum_of_edges = sum(degree_values)\n",
        "\n",
        "# Calculating the average is just a matter of division by the number of nodes.\n",
        "average_degree = sum_of_edges / float(number_of_nodes)\n",
        "print(f\"The average degree in the graph network is: {average_degree}\")\n",
        "\n",
        "# For Directed Graphs I think is better to calculate both In-degree and Out-degree values.\n",
        "avg_in_degree_value = sum(d for n, d in G.in_degree()) / float(number_of_nodes)\n",
        "print(f\"The average in degree in the graph network is: {avg_in_degree_value}\")\n",
        "\n",
        "avg_out_degree_value = sum(d for n, d in G.out_degree()) / float(number_of_nodes)\n",
        "print(f\"The average out degree in the graph network is: {avg_out_degree_value}\")\n"
      ],
      "metadata": {
        "colab": {
          "base_uri": "https://localhost:8080/"
        },
        "id": "wB4t9CtWo8sh",
        "outputId": "163922af-7544-4139-a913-cdec4a8c5892"
      },
      "execution_count": null,
      "outputs": [
        {
          "output_type": "stream",
          "name": "stdout",
          "text": [
            "The average degree in the graph network is: 5.631179632058929\n",
            "The average in degree in the graph network is: 2.8155898160294646\n",
            "The average out degree in the graph network is: 2.8155898160294646\n"
          ]
        }
      ]
    },
    {
      "cell_type": "code",
      "source": [
        "graph_density = nx.density(G)\n",
        "print(f\"The density of the graph network is: {graph_density}\")"
      ],
      "metadata": {
        "colab": {
          "base_uri": "https://localhost:8080/"
        },
        "id": "FG392zIKuLzo",
        "outputId": "6e3a1e77-3e39-4c09-b4f3-8869c3a1c451"
      },
      "execution_count": null,
      "outputs": [
        {
          "output_type": "stream",
          "name": "stdout",
          "text": [
            "The density of the graph network is: 1.4327206657979522e-06\n"
          ]
        }
      ]
    },
    {
      "cell_type": "code",
      "source": [
        "\"\"\"\n",
        "  Transitiity is a global metric for the network.\n",
        "\n",
        "      Σ(triangles centered at node i)\n",
        "  C = ----------------------------------\n",
        "      Σ(triples centered at node i)\n",
        "\"\"\"\n",
        "graph_transitivity = nx.transitivity(G)\n",
        "print(f\"The transitivity of the graph network is: {graph_transitivity}\")\n",
        "\n",
        "# count_each_node_triangles = nx.triangles(G) → NetworkXNotImplemented: not implemented for directed type\n",
        "# print(f\"The number of triangles all of the nodes in the graph network are: \", count_each_node_triangles)"
      ],
      "metadata": {
        "colab": {
          "base_uri": "https://localhost:8080/"
        },
        "id": "dalVpi9Xux4W",
        "outputId": "a3c89cae-52a0-4a8f-cd47-40085b6cb87f"
      },
      "execution_count": null,
      "outputs": [
        {
          "output_type": "stream",
          "name": "stdout",
          "text": [
            "The transitivity of the graph network is: 0.06038741703627468\n"
          ]
        }
      ]
    },
    {
      "cell_type": "code",
      "source": [
        "\"\"\"\n",
        "          triangles centered at node i           1\n",
        "  C(i) = -------------------------------,  C = ----- Σ(i)C(i)\n",
        "          triples centered at node i             N\n",
        "        \n",
        "\"\"\"\n",
        "average_clustering = nx.average_clustering(G)\n",
        "print(f\"The average clustering value of the graph network is: {average_clustering}\")"
      ],
      "metadata": {
        "colab": {
          "base_uri": "https://localhost:8080/"
        },
        "id": "wNISKeYX1vvV",
        "outputId": "1d240c2a-dd22-4ce0-d202-cd0e2e4eab28"
      },
      "execution_count": null,
      "outputs": [
        {
          "output_type": "stream",
          "name": "stdout",
          "text": [
            "The average clustering value of the graph network is: 0.046370270074755485\n"
          ]
        }
      ]
    },
    {
      "cell_type": "code",
      "source": [
        "\"\"\"\n",
        "  This block takes a lot of time to execute.\n",
        "  You cannot compute diameter for either \n",
        "    1) a weakly-connected directed graph or \n",
        "    2) a disconnected graph, but you might use the maximal shortest path like so:\n",
        "    https://stackoverflow.com/a/69636529/20285050\n",
        "\"\"\"\n",
        "# network_diameter = nx.diameter(G) → NetworkXError: Found infinite path length because the digraph is not strongly connected\n",
        "# print(f\"The diameter of the graph network is: {network_diameter}\")\n",
        "\n",
        "network_diameter = max([max(j.values()) for (i,j) in nx.shortest_path_length(G)])\n",
        "print(f\"The diameter in the graph network is: {network_diameter}\")\n",
        "\n",
        "\n"
      ],
      "metadata": {
        "id": "0B7BFUOj5VEZ"
      },
      "execution_count": null,
      "outputs": []
    },
    {
      "cell_type": "code",
      "source": [
        "\"\"\"\n",
        "  This block takes a lot of time to execute.\n",
        "\"\"\"\n",
        "# for g in nx.connected_components(G): → NetworkXNotImplemented: not implemented for directed type\n",
        "#     print(nx.average_shortest_path_length(g))\n",
        "path_lengths = (y.values() for (x, y) in nx.shortest_path_length(G))\n",
        "average_shortest_path_length = statistics.mean(chain.from_iterable(path_lengths))\n",
        "print(f\"The average shortest path length of the graph network is: {average_shortest_path_length}\")"
      ],
      "metadata": {
        "id": "UceZj2X990kQ"
      },
      "execution_count": null,
      "outputs": []
    },
    {
      "cell_type": "code",
      "source": [
        "U = G.to_undirected()\n",
        "# average_shortest_path_length = nx.average_shortest_path_length(U) NetworkXError: Graph is not connected.\n",
        "components = [p for p in nx.connected_components(U)\n",
        "              if len(p) >= 20\n",
        "              or U.subgraph(p).number_of_edges() >= 20]\n",
        "for c in components:\n",
        "    subgraph = U.subgraph(c)\n",
        "    average_shortest_path_length = nx.average_shortest_path_length(subgraph)\n",
        "    print(f\"The average shortest path length of the undirected graph network is: {average_shortest_path_length}\")\n"
      ],
      "metadata": {
        "id": "p6m1H3xYRmQc"
      },
      "execution_count": null,
      "outputs": []
    },
    {
      "cell_type": "code",
      "source": [
        "# undirected_network_diameter = nx.diameter(U) → NetworkXError: Found infinite path length because the graph is not connected\n",
        "# print(f\"The diameter in the undirected graph network is: {undirected_network_diameter}\")\n",
        "# https://stackoverflow.com/a/70543085/20285050\n",
        "U = G.to_undirected()\n",
        "components = [p for p in nx.connected_components(U)\n",
        "              if len(p) >= 20\n",
        "              or U.subgraph(p).number_of_edges() >= 20]\n",
        "for c in components:\n",
        "    subgraph = U.subgraph(c)\n",
        "    diameter = nx.approximation.diameter(subgraph)\n",
        "    print(diameter)"
      ],
      "metadata": {
        "colab": {
          "base_uri": "https://localhost:8080/"
        },
        "id": "uqrvSZ8TFO90",
        "outputId": "30614e37-2bcc-4195-e3b2-2034db74cd9a"
      },
      "execution_count": null,
      "outputs": [
        {
          "output_type": "stream",
          "name": "stdout",
          "text": [
            "852\n",
            "12\n",
            "4\n",
            "27\n",
            "38\n",
            "17\n",
            "11\n",
            "5\n",
            "5\n",
            "5\n",
            "4\n",
            "4\n",
            "21\n",
            "44\n",
            "14\n",
            "15\n"
          ]
        }
      ]
    },
    {
      "cell_type": "code",
      "source": [
        "def degree_histogram_directed(G, in_degree=False, out_degree=False):\n",
        "    \"\"\"\n",
        "    Return a list of the frequency of each degree value.\n",
        "\n",
        "    Parameters\n",
        "    ----------\n",
        "    G : Networkx graph\n",
        "       A graph\n",
        "    in_degree : bool\n",
        "    out_degree : bool\n",
        "\n",
        "    Returns\n",
        "    -------\n",
        "    hist : list\n",
        "       A list of frequencies of degrees.\n",
        "       The degree values are the index in the list.\n",
        "\n",
        "    Notes\n",
        "    -----\n",
        "    Note: the bins are width one, hence len(list) can be large\n",
        "    (Order(number_of_edges))\n",
        "    \"\"\"\n",
        "    nodes = G.nodes()\n",
        "    if in_degree:\n",
        "        in_degree = dict(G.in_degree())\n",
        "        degseq=[in_degree.get(k,0) for k in nodes]\n",
        "    elif out_degree:\n",
        "        out_degree = dict(G.out_degree())\n",
        "        degseq=[out_degree.get(k,0) for k in nodes]\n",
        "    else:\n",
        "        degseq=[v for k, v in G.degree()]\n",
        "    dmax=max(degseq)+1\n",
        "    freq= [ 0 for d in range(dmax) ]\n",
        "    for d in degseq:\n",
        "        freq[d] += 1\n",
        "    return freq"
      ],
      "metadata": {
        "id": "JhHZDU_uAjjo"
      },
      "execution_count": null,
      "outputs": []
    },
    {
      "cell_type": "code",
      "source": [
        "# The in-degere and out-degree distribution are similar to each other, so they overlap with each other.\n",
        "# https://stackoverflow.com/a/62662992/20285050\n",
        "in_degree_freq = degree_histogram_directed(G, in_degree=True)\n",
        "out_degree_freq = degree_histogram_directed(G, out_degree=True)\n",
        "degrees = range(len(in_degree_freq))\n",
        "plt.figure(figsize=(12, 8)) \n",
        "plt.loglog(range(len(in_degree_freq)), in_degree_freq, 'go-', label='in-degree') \n",
        "plt.loglog(range(len(out_degree_freq)), out_degree_freq, 'bo-', label='out-degree')\n",
        "plt.xlabel('Degree')\n",
        "plt.ylabel('Frequency')\n",
        "plt.legend(loc=\"upper right\")"
      ],
      "metadata": {
        "colab": {
          "base_uri": "https://localhost:8080/",
          "height": 717
        },
        "id": "Dd3ygd0fAu63",
        "outputId": "dbedef26-ff68-4102-f38f-65b7d5894fbc"
      },
      "execution_count": null,
      "outputs": [
        {
          "output_type": "execute_result",
          "data": {
            "text/plain": [
              "<matplotlib.legend.Legend at 0x7f80e5423460>"
            ]
          },
          "metadata": {},
          "execution_count": 32
        },
        {
          "output_type": "display_data",
          "data": {
            "text/plain": [
              "<Figure size 1200x800 with 1 Axes>"
            ],
            "image/png": "[encoded data removed]"
          },
          "metadata": {}
        }
      ]
    },
    {
      "cell_type": "code",
      "source": [
        "# approximate_diameter = nx.approximation.diameter(G) → NetworkXError: DiGraph not strongly connected."
      ],
      "metadata": {
        "id": "bK32RQ90ELDr"
      },
      "execution_count": null,
      "outputs": []
    },
    {
      "cell_type": "code",
      "source": [
        "r = nx.degree_pearson_correlation_coefficient(G)\n",
        "print(f\"The assortiativity value in the graph network is: {r}\")"
      ],
      "metadata": {
        "id": "y86jK57ZUFbq",
        "colab": {
          "base_uri": "https://localhost:8080/"
        },
        "outputId": "7a72864f-6dcc-45da-8bc7-efe6a198a666"
      },
      "execution_count": null,
      "outputs": [
        {
          "output_type": "stream",
          "name": "stdout",
          "text": [
            "The assortiativity value in the graph network is: 0.11851235104125124\n"
          ]
        }
      ]
    },
    {
      "cell_type": "code",
      "source": [
        "deg_centrality = nx.degree_centrality(G)\n",
        "deg_centrality_dict = {}\n",
        "# print(deg_centrality) → output limit exceeded\n",
        "\n",
        "with open(\"degree_centrality_data.txt\", \"w\") as fp:\n",
        "    json.dump(deg_centrality, fp)  # encode dict into JSON\n",
        "    print(\" **************** WRITE THE DEGREE CENTRALITY RESULTS INTO A FILE **************** \")\n",
        "\n",
        "with open(\"degree_centrality_data.txt\", \"r\") as fp:\n",
        "    # Load the dictionary from the file\n",
        "    deg_centrality_dict = json.load(fp)\n",
        "    print(\" **************** LOAD THE DEGREE CENTRALITY RESULTS FROM A FILE **************** \")\n",
        "\n",
        "c = Counter(deg_centrality_dict)\n",
        "top_5_nodes_based_on_degree_centrality = c.most_common(5)\n",
        "print(f\"The top five nodes with highest values in degree centrality measurment are: {top_5_nodes_based_on_degree_centrality}\")"
      ],
      "metadata": {
        "colab": {
          "base_uri": "https://localhost:8080/"
        },
        "id": "gnJfJeCJVW3y",
        "outputId": "98afd42a-eabc-4adf-fd87-2cf04f154cad"
      },
      "execution_count": null,
      "outputs": [
        {
          "output_type": "stream",
          "name": "stdout",
          "text": [
            "**************** WRITE THE DEGREE CENTRALITY RESULTS INTO A FILE **************** \n",
            "**************** LOAD THE DEGREE CENTRALITY RESULTS FROM A FILE **************** \n",
            "The top five nodes with highest values in degree centrality measurment are: [('5657', 3.852636648206116e-05), ('5727', 3.852636648206116e-05), ('6356', 3.852636648206116e-05), ('290162', 3.852636648206116e-05), ('291797', 3.852636648206116e-05)]\n"
          ]
        }
      ]
    },
    {
      "cell_type": "code",
      "source": [
        "close_centrality = nx.closeness_centrality(G)\n",
        "closeness_centrality_dict = {}\n",
        "\n",
        "\n",
        "with open(\"closeness_centrality_data.txt\", \"w\") as fp:\n",
        "    json.dump(close_centrality, fp)  # encode dict into JSON\n",
        "    print(\" **************** WRITE THE CLOSENESS CENTRALITY RESULTS INTO A FILE **************** \")\n",
        "\n",
        "with open(\"closeness_centrality_data.txt\", \"r\") as fp:\n",
        "    # Load the dictionary from the file\n",
        "    closeness_centrality_dict = json.load(fp)\n",
        "    print(\" **************** LOAD THE CLOSENESS CENTRALITY RESULTS FROM A FILE **************** \")\n",
        "\n",
        "c = Counter(closeness_centrality_dict)\n",
        "top_5_nodes_based_on_closeness_centrality = c.most_common(5)\n",
        "print(f\"The top five nodes with highest values in closeness centrality measurment are: {top_5_nodes_based_on_closeness_centrality}\")"
      ],
      "metadata": {
        "id": "AxFPEuOQasFH"
      },
      "execution_count": null,
      "outputs": []
    },
    {
      "cell_type": "code",
      "source": [
        "bet_centrality = nx.betweenness_centrality(G, normalized = True, \n",
        "                                              endpoints = False)\n",
        "betweenness_centrality_dict = {}\n",
        "# parameters normalized\n",
        "# and endpoints ensure whether we normalize the value\n",
        "# and consider the endpoints respectively.\n",
        "\n",
        "with open(\"betweenness_centrality_data.txt\", \"w\") as fp:\n",
        "    json.dump(bet_centrality, fp)  # encode dict into JSON\n",
        "    print(\" **************** WRITE THE BETWEENNESS CENTRALITY RESULTS INTO A FILE **************** \")\n",
        "\n",
        "with open(\"betweenness_centrality_data.txt\", \"r\") as fp:\n",
        "    # Load the dictionary from the file\n",
        "    betweenness_centrality_dict = json.load(fp)\n",
        "    print(\" **************** LOAD THE BETWEENNESS CENTRALITY RESULTS FROM A FILE **************** \")\n",
        "\n",
        "c = Counter(betweenness_centrality_dict)\n",
        "top_5_nodes_based_on_bet_centrality = c.most_common(5)\n",
        "print(f\"The top five nodes with highest values in betweenness centrality measurment are: {top_5_nodes_based_on_bet_centrality}\")"
      ],
      "metadata": {
        "id": "V-CJRTtDb-t4"
      },
      "execution_count": null,
      "outputs": []
    },
    {
      "cell_type": "code",
      "source": [
        "# https://stackoverflow.com/a/56708233/20285050\n",
        "\n",
        "eigenvector_centrality = nx.eigenvector_centrality_numpy(G)\n",
        "eigenvector_centrality_dict = {}\n",
        "\n",
        "\n",
        "with open(\"eigenvector_centrality_data.txt\", \"w\") as fp:\n",
        "    json.dump(eigenvector_centrality, fp)  # encode dict into JSON\n",
        "\n",
        "with open(\"eigenvector_centrality_data.txt\", \"r\") as fp:\n",
        "    # Load the dictionary from the file\n",
        "    eigenvector_centrality_dict = json.load(fp)\n",
        "\n",
        "c = Counter(eigenvector_centrality_dict)\n",
        "top_5_nodes_based_on_ev_centrality = c.most_common(5)\n",
        "print(f\"The top five nodes with highest values in eigenvector centrality measurment are: {top_5_nodes_based_on_ev_centrality}\")"
      ],
      "metadata": {
        "colab": {
          "base_uri": "https://localhost:8080/"
        },
        "id": "lDiudo47ejRS",
        "outputId": "7834fbd8-cbf2-449b-dfae-9ca8822720c9"
      },
      "execution_count": null,
      "outputs": [
        {
          "output_type": "stream",
          "name": "stdout",
          "text": [
            "The top five nodes with highest values in eigenvector centrality measurment are: [('6460', 0.26516156567236626), ('6385', 0.24862223663663022), ('6478', 0.2209269741713158), ('6356', 0.21865406026449855), ('6483', 0.19919724592919408)]\n"
          ]
        }
      ]
    },
    {
      "cell_type": "code",
      "source": [
        "pr_centrality = nx.pagerank(G, alpha = 0.8)\n",
        "pr_centrality_dict = {}\n",
        "\n",
        "\n",
        "with open(\"page_rank_centrality_data.txt\", \"w\") as fp:\n",
        "    json.dump(pr_centrality, fp)  # encode dict into JSON\n",
        "\n",
        "with open(\"page_rank_centrality_data.txt\", \"r\") as fp:\n",
        "    # Load the dictionary from the file\n",
        "    pr_centrality_dict = json.load(fp)\n",
        "\n",
        "c = Counter(pr_centrality_dict)\n",
        "top_5_nodes_based_on_pr_centrality = c.most_common(5)\n",
        "print(f\"The top five nodes with highest values in page rank centrality measurment are: {top_5_nodes_based_on_pr_centrality}\")"
      ],
      "metadata": {
        "id": "LFbfnbTYfuOr",
        "colab": {
          "base_uri": "https://localhost:8080/"
        },
        "outputId": "65c1428c-133c-4fbb-a721-cd41b83fc725"
      },
      "execution_count": 24,
      "outputs": [
        {
          "output_type": "stream",
          "name": "stdout",
          "text": [
            "The top five nodes with highest values in page rank centrality measurment are: [('225438', 1.1096675350427171e-05), ('287362', 1.077562306947111e-05), ('241926', 9.812466226602925e-06), ('241299', 8.849309383734741e-06), ('264566', 8.849309383734741e-06)]\n"
          ]
        }
      ]
    },
    {
      "cell_type": "code",
      "source": [
        "N = G.order()\n",
        "sum_in_degrees = sum(d for n, d in G.in_degree())\n",
        "max_in = max(d for n, d in G.in_degree())\n",
        "centralization = float(N * max_in - sum_in_degrees) / (N - 1) ** 2\n",
        "print(f\"The in degree centralization value of the graph network is: {centralization}\")"
      ],
      "metadata": {
        "colab": {
          "base_uri": "https://localhost:8080/"
        },
        "id": "Htp3SMAjlKmn",
        "outputId": "a3be5e63-89df-4a92-e101-15ae144524d8"
      },
      "execution_count": 26,
      "outputs": [
        {
          "output_type": "stream",
          "name": "stdout",
          "text": [
            "The in degree centralization value of the graph network is: 1.2539784961323756e-05\n"
          ]
        }
      ]
    }
  ]
}