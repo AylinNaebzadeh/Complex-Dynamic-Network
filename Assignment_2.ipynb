{
  "nbformat": 4,
  "nbformat_minor": 0,
  "metadata": {
    "colab": {
      "provenance": [],
      "authorship_tag": "ABX9TyPrnEN2eRSTBZz1xrA4pY6P",
      "include_colab_link": true
    },
    "kernelspec": {
      "name": "python3",
      "display_name": "Python 3"
    },
    "language_info": {
      "name": "python"
    }
  },
  "cells": [
    {
      "cell_type": "markdown",
      "metadata": {
        "id": "view-in-github",
        "colab_type": "text"
      },
      "source": [
        "<a href=\"https://colab.research.google.com/github/AylinNaebzadeh/Complex-Dynamic-Network/blob/main/Assignment_2.ipynb\" target=\"_parent\"><img src=\"https://colab.research.google.com/assets/colab-badge.svg\" alt=\"Open In Colab\"/></a>"
      ]
    },
    {
      "cell_type": "markdown",
      "source": [
        "**Directed** graph (each unordered pair of nodes is saved once): roadNet-CA.txt \n",
        "California road network\n",
        "\n",
        "**Nodes**: 1965206\n",
        "\n",
        "**Edges**: 5533214"
      ],
      "metadata": {
        "id": "tTBjTZtPnAbj"
      }
    },
    {
      "cell_type": "code",
      "execution_count": 1,
      "metadata": {
        "id": "Y7y07DFslWaE"
      },
      "outputs": [],
      "source": [
        "import networkx as nx\n",
        "import pandas as pd\n",
        "import matplotlib.pyplot as plt"
      ]
    },
    {
      "cell_type": "code",
      "source": [
        "G = nx.read_edgelist(\"roadNet-CA.txt\", nodetype=int, create_using=nx.DiGraph(), comments='#')\n",
        "number_of_nodes = G.number_of_nodes()\n",
        "number_of_edges = G.number_of_edges()\n",
        "print(f\"The number of nodes in the graph network is: {number_of_nodes}\")\n",
        "print(f\"The number of edges in the graph network is: {number_of_edges}\")"
      ],
      "metadata": {
        "colab": {
          "base_uri": "https://localhost:8080/"
        },
        "id": "7N3zJztnliRu",
        "outputId": "224870ba-73ae-4920-fde2-e1fbe04d0158"
      },
      "execution_count": 8,
      "outputs": [
        {
          "output_type": "stream",
          "name": "stdout",
          "text": [
            " The number of nodes in the graph network is: 1965206\n",
            "The number of edges in the graph network is: 5533214\n"
          ]
        }
      ]
    },
    {
      "cell_type": "code",
      "source": [
        "\n",
        "degrees = G.degree()\n",
        "degree_values = [v for k, v in degrees]\n",
        "sum_of_edges = sum(degree_values)\n",
        "# Calculating the average is just a matter of division by the number of nodes.\n",
        "average_degree = sum_of_edges / float(number_of_nodes)\n",
        "print(f\"The average degree in the graph network is: {average_degree}\")\n"
      ],
      "metadata": {
        "id": "wB4t9CtWo8sh"
      },
      "execution_count": 9,
      "outputs": []
    }
  ]
}