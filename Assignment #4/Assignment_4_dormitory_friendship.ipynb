{
  "cells": [
    {
      "cell_type": "code",
      "execution_count": 1,
      "metadata": {
        "id": "wvDldwlUsZMF"
      },
      "outputs": [],
      "source": [
        "import networkx as nx\n",
        "import pylab as plt\n",
        "import statistics\n",
        "from itertools import chain\n",
        "from collections import Counter\n",
        "from operator import itemgetter\n",
        "import pickle\n",
        "import json\n",
        "from networkx.algorithms.community import quality"
      ]
    },
    {
      "cell_type": "code",
      "execution_count": 2,
      "metadata": {
        "id": "E5GcT3P6szpq"
      },
      "outputs": [],
      "source": [
        "G = nx.Graph()"
      ]
    },
    {
      "cell_type": "code",
      "execution_count": 3,
      "metadata": {
        "id": "6jEu4LUZs14S"
      },
      "outputs": [],
      "source": [
        "G.add_node(\"Aylin\")\n",
        "G.add_node(\"Zahra.F.M\")\n",
        "G.add_node(\"Narges\")\n",
        "G.add_node(\"Zeynab\")\n",
        "G.add_node(\"Mahboobeh\")\n",
        "G.add_node(\"PMR\")\n",
        "G.add_node(\"Setareh\")\n",
        "G.add_node(\"Melika\")\n",
        "G.add_node(\"Maryam.J\")\n",
        "G.add_node(\"Niayesh\")"
      ]
    },
    {
      "cell_type": "code",
      "execution_count": 4,
      "metadata": {
        "id": "qNhTjkqBs4Qk"
      },
      "outputs": [],
      "source": [
        "G.add_edge(\"Aylin\", \"Narges\")\n",
        "G.add_edge(\"Aylin\", \"Zahra.F.M\")\n",
        "G.add_edge(\"Zahra.F.M\", \"Mahboobeh\")\n",
        "G.add_edge(\"Narges\", \"Zeynab\")\n",
        "G.add_edge(\"Aylin\", \"Mahboobeh\")\n",
        "G.add_edge(\"Narges\", \"Zahra.F.M\")\n",
        "\n",
        "G.add_edge(\"Aylin\", \"PMR\")\n",
        "G.add_edge(\"PMR\", \"Setareh\")\n",
        "G.add_edge(\"PMR\", \"Melika\")\n",
        "G.add_edge(\"PMR\", \"Maryam.J\")\n",
        "G.add_edge(\"PMR\", \"Niayesh\")\n",
        "G.add_edge(\"Setareh\", \"Melika\")\n",
        "G.add_edge(\"Niayesh\", \"Melika\")\n",
        "G.add_edge(\"Niayesh\", \"Setareh\")\n",
        "G.add_edge(\"Maryam.J\", \"Setareh\")\n",
        "G.add_edge(\"Maryam.J\", \"Melika\")\n",
        "G.add_edge(\"Maryam.J\", \"Niayesh\")"
      ]
    },
    {
      "attachments": {},
      "cell_type": "markdown",
      "metadata": {},
      "source": [
        "Find Communities using Greedy algorithm"
      ]
    },
    {
      "cell_type": "code",
      "execution_count": 5,
      "metadata": {
        "colab": {
          "base_uri": "https://localhost:8080/"
        },
        "id": "_B0dQiOtt85M",
        "outputId": "5b8ce9f4-f722-471c-e90c-51924ba3da67"
      },
      "outputs": [
        {
          "name": "stdout",
          "output_type": "stream",
          "text": [
            "[frozenset({'Aylin', 'Zahra.F.M', 'Mahboobeh', 'Narges', 'Zeynab'}), frozenset({'Maryam.J', 'Setareh', 'PMR', 'Niayesh', 'Melika'})]\n"
          ]
        }
      ],
      "source": [
        "c = nx.community.greedy_modularity_communities(G)\n",
        "\n",
        "print(c)"
      ]
    },
    {
      "cell_type": "markdown",
      "metadata": {
        "id": "kAm2zTO9vvU_"
      },
      "source": [
        "Modularity is a measure of the structure of networks or graphs that measures the strength of division of a network into modules or communities². Networks with high modularity have dense connections between nodes within modules but sparse connections between nodes in different modules². Modularity is often used in optimization methods for detecting community structure in networks².\n",
        "\n",
        "The modularity value is the fraction of the edges that fall within the given groups minus the expected fraction if edges were distributed at random². The value of the modularity for unweighted and undirected graphs lies in the range `[-1/2, 1)` and is positive if the number of edges within groups exceeds the number expected on the basis of chance².\n",
        "\n",
        "In other words, a high modularity value indicates a strong community structure, where nodes within communities are more densely connected than nodes between communities.\n",
        "\n",
        "(1) https://en.wikipedia.org/wiki/Modularity_%28networks%29\n",
        "\n",
        "(2) https://www.sciencedirect.com/topics/earth-and-planetary-sciences/modularity\n",
        "\n",
        "(3) https://en.wikipedia.org/wiki/Modularity\n",
        "\n",
        "(4) http://sparkling-graph.readthedocs.io/en/latest/modularity.html\n",
        "\n",
        "(5) https://stackoverflow.com/questions/66082749/modularity-value-outside-of-0-to-1-using-cluster-spinglass-for-community-detecti "
      ]
    },
    {
      "cell_type": "code",
      "execution_count": 6,
      "metadata": {
        "colab": {
          "base_uri": "https://localhost:8080/"
        },
        "id": "-t0spgFZuQui",
        "outputId": "8f81fb9a-9201-4a91-9822-d09db3ec66e8"
      },
      "outputs": [
        {
          "name": "stdout",
          "output_type": "stream",
          "text": [
            "0.4134948096885813\n"
          ]
        }
      ],
      "source": [
        "modularity_value = quality.modularity(G, c)\n",
        "\n",
        "print(modularity_value)"
      ]
    }
  ],
  "metadata": {
    "colab": {
      "provenance": [],
      "toc_visible": true
    },
    "kernelspec": {
      "display_name": "Python 3",
      "name": "python3"
    },
    "language_info": {
      "name": "python"
    }
  },
  "nbformat": 4,
  "nbformat_minor": 0
}
