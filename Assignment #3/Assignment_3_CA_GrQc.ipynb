{
  "nbformat": 4,
  "nbformat_minor": 0,
  "metadata": {
    "colab": {
      "provenance": [],
      "authorship_tag": "ABX9TyMl6YD9uUfNEzs5sQ/3A/cI",
      "include_colab_link": true
    },
    "kernelspec": {
      "name": "python3",
      "display_name": "Python 3"
    },
    "language_info": {
      "name": "python"
    }
  },
  "cells": [
    {
      "cell_type": "markdown",
      "metadata": {
        "id": "view-in-github",
        "colab_type": "text"
      },
      "source": [
        "<a href=\"https://colab.research.google.com/github/AylinNaebzadeh/Complex-Dynamic-Network/blob/main/Assignment_3_CA_GrQc.ipynb\" target=\"_parent\"><img src=\"https://colab.research.google.com/assets/colab-badge.svg\" alt=\"Open In Colab\"/></a>"
      ]
    },
    {
      "cell_type": "markdown",
      "source": [
        "http://snap.stanford.edu/data/ca-GrQc.html\n",
        "\n",
        "Dataset information\n",
        "\n",
        "Arxiv GR-QC (General Relativity and Quantum Cosmology) collaboration network is from the e-print arXiv and covers scientific collaborations between authors papers submitted to General Relativity and Quantum Cosmology category. If an author i co-authored a paper with author j, the graph contains a undirected edge from i to j. If the paper is co-authored by k authors this generates a completely connected (sub)graph on k nodes.\n",
        "\n",
        "The data covers papers in the period from January 1993 to April 2003 (124 months). It begins within a few months of the inception of the arXiv, and thus represents essentially the complete history of its GR-QC section."
      ],
      "metadata": {
        "id": "ItrNbASlGjUC"
      }
    },
    {
      "cell_type": "code",
      "execution_count": null,
      "metadata": {
        "id": "BmXySIil_NWX"
      },
      "outputs": [],
      "source": [
        "import networkx as nx\n",
        "import pandas as pd\n",
        "import matplotlib.pyplot as plt\n",
        "import statistics\n",
        "from itertools import chain\n",
        "from collections import Counter\n",
        "from operator import itemgetter\n",
        "import pickle\n",
        "import json"
      ]
    },
    {
      "cell_type": "code",
      "source": [
        "G = nx.read_edgelist(\"CA-GrQc.txt\", nodetype=int, create_using=nx.DiGraph(), comments='#')\n",
        "number_of_nodes = G.number_of_nodes()\n",
        "number_of_edges = G.number_of_edges()\n",
        "print(f\"The number of nodes in the graph network is: {number_of_nodes}\")\n",
        "print(f\"The number of edges in the graph network is: {number_of_edges}\")"
      ],
      "metadata": {
        "colab": {
          "base_uri": "https://localhost:8080/"
        },
        "id": "JWYoQ8ExBzUi",
        "outputId": "062869f9-4cd2-4f0b-e908-75377be10633"
      },
      "execution_count": null,
      "outputs": [
        {
          "output_type": "stream",
          "name": "stdout",
          "text": [
            "The number of nodes in the graph network is: 5242\n",
            "The number of edges in the graph network is: 28980\n"
          ]
        }
      ]
    },
    {
      "cell_type": "markdown",
      "source": [
        "\n",
        "`nx.barabasi_albert_graph(n, 1)` to generate the BA graph. This means that each new node is only attaching to one existing node in the network.\n",
        " As a result, the resulting BA graph will be a tree, which has a transitivity of 0.\n",
        " \n",
        " To make the Watts-Strogatz (WS) model more similar to your real network, you can try adjusting the parameters used to generate the WS graph. In the code you provided, you're using `nx.watts_strogatz_graph(n, 3, 0.5)` to generate the WS graph. The second parameter represents the number of nearest neighbors each node is connected to in the ring topology, and the third parameter represents the probability of rewiring each edge.\n",
        "\n",
        "You can try increasing the second parameter to increase the number of nearest neighbors each node is connected to. This will result in a denser network. You can also try adjusting the third parameter to change the probability of rewiring each edge. A higher value will result in a more random network, while a lower value will result in a more regular network.\n",
        "\n",
        "Experimenting with different values for these parameters can help you find a configuration that produces a WS model that is more similar to your real network.\n"
      ],
      "metadata": {
        "id": "K9rXZjHEMs2T"
      }
    },
    {
      "cell_type": "code",
      "source": [
        "# Fit the models\n",
        "n = len(G.nodes())\n",
        "m = len(G.edges())\n",
        "p = 2 * m / (n * (n - 1))\n",
        "\n",
        "ER = nx.erdos_renyi_graph(n, p)\n",
        "WS = nx.watts_strogatz_graph(n, 30, 0.5)\n",
        "BA = nx.barabasi_albert_graph(n, int(m / 500))"
      ],
      "metadata": {
        "id": "nkXfBxHlB-vm"
      },
      "execution_count": null,
      "outputs": []
    },
    {
      "cell_type": "code",
      "source": [
        "# Compute degree distribution\n",
        "degrees = [degree for node, degree in G.degree()]\n",
        "degree_hist = nx.degree_histogram(G)\n",
        "\n",
        "# Compute average clustering coefficient\n",
        "avg_clustering = nx.average_clustering(G)\n",
        "\n",
        "print(f'Degree distribution in the main graph: {degree_hist}')\n",
        "print(f'Average clustering coefficient in the main graph: {avg_clustering}')"
      ],
      "metadata": {
        "colab": {
          "base_uri": "https://localhost:8080/"
        },
        "id": "WdnNV3tRGb_U",
        "outputId": "9a7cf014-1528-4037-f07a-88430cfeb651"
      },
      "execution_count": null,
      "outputs": [
        {
          "output_type": "stream",
          "name": "stdout",
          "text": [
            "Degree distribution in the main graph: [0, 0, 1197, 0, 1114, 0, 776, 0, 498, 0, 296, 0, 225, 0, 159, 0, 141, 0, 99, 0, 92, 0, 66, 0, 46, 0, 57, 0, 38, 0, 48, 0, 25, 0, 43, 0, 21, 0, 18, 0, 28, 0, 16, 0, 12, 0, 44, 0, 8, 0, 8, 0, 7, 0, 3, 0, 5, 0, 3, 0, 8, 0, 9, 0, 3, 0, 9, 0, 37, 0, 1, 0, 2, 0, 5, 0, 1, 0, 0, 0, 1, 0, 3, 0, 19, 0, 2, 0, 1, 0, 13, 0, 2, 0, 4, 0, 3, 0, 4, 0, 0, 0, 2, 0, 0, 0, 1, 0, 1, 0, 1, 0, 3, 0, 1, 0, 0, 0, 1, 0, 1, 0, 0, 0, 1, 0, 1, 0, 0, 0, 1, 0, 1, 0, 1, 0, 2, 0, 0, 0, 0, 0, 0, 0, 0, 0, 0, 0, 0, 0, 0, 0, 0, 0, 2, 0, 0, 0, 1, 0, 0, 0, 1]\n",
            "Average clustering coefficient in the main graph: 0.529635811052136\n"
          ]
        }
      ]
    },
    {
      "cell_type": "code",
      "source": [
        "# Compute degree distribution\n",
        "degrees = [degree for node, degree in ER.degree()]\n",
        "degree_hist = nx.degree_histogram(ER)\n",
        "\n",
        "# Compute average clustering coefficient\n",
        "avg_clustering = nx.average_clustering(ER)\n",
        "\n",
        "print(f'Degree distribution in the ER graph: {degree_hist}')\n",
        "print(f'Average clustering coefficient in the ER graph: {avg_clustering}')"
      ],
      "metadata": {
        "colab": {
          "base_uri": "https://localhost:8080/"
        },
        "id": "4cpopRBgJfiT",
        "outputId": "f95c9896-4b93-45a8-84ff-cd7be1f0a83b"
      },
      "execution_count": null,
      "outputs": [
        {
          "output_type": "stream",
          "name": "stdout",
          "text": [
            "Degree distribution in the ER graph: [0, 2, 5, 19, 51, 114, 222, 337, 447, 561, 627, 616, 570, 488, 382, 267, 218, 130, 93, 43, 24, 10, 6, 7, 3]\n",
            "Average clustering coefficient in the ER graph: 0.0022995781112200723\n"
          ]
        }
      ]
    },
    {
      "cell_type": "code",
      "source": [
        "# Compute degree distribution\n",
        "degrees = [degree for node, degree in BA.degree()]\n",
        "degree_hist = nx.degree_histogram(BA)\n",
        "\n",
        "# Compute average clustering coefficient\n",
        "avg_clustering = nx.average_clustering(BA)\n",
        "\n",
        "print(f'Degree distribution in the BA graph: {degree_hist}')\n",
        "print(f'Average clustering coefficient in the BA graph: {avg_clustering}')"
      ],
      "metadata": {
        "colab": {
          "base_uri": "https://localhost:8080/"
        },
        "id": "VLvogTnPJhjV",
        "outputId": "186efbe1-c595-4ee8-ffe8-1258b57afb4c"
      },
      "execution_count": null,
      "outputs": [
        {
          "output_type": "stream",
          "name": "stdout",
          "text": [
            "Degree distribution in the BA graph: [0, 0, 0, 0, 0, 0, 0, 0, 0, 0, 0, 0, 0, 0, 0, 0, 0, 0, 0, 0, 0, 0, 0, 0, 0, 0, 0, 0, 0, 0, 0, 0, 0, 0, 0, 0, 0, 0, 0, 0, 0, 0, 0, 0, 0, 0, 0, 0, 0, 0, 0, 0, 0, 0, 0, 0, 0, 180, 169, 143, 162, 140, 138, 125, 132, 111, 113, 108, 91, 97, 105, 93, 87, 92, 83, 73, 66, 72, 73, 55, 63, 62, 60, 55, 59, 61, 54, 53, 42, 59, 36, 40, 50, 33, 48, 42, 48, 38, 37, 35, 28, 36, 33, 29, 34, 22, 23, 26, 34, 18, 32, 30, 19, 26, 27, 14, 28, 18, 16, 15, 22, 20, 18, 15, 12, 18, 21, 20, 17, 12, 15, 12, 19, 13, 15, 12, 13, 14, 14, 15, 14, 7, 13, 10, 14, 5, 13, 15, 10, 11, 8, 6, 13, 13, 12, 6, 10, 10, 8, 11, 9, 9, 6, 5, 6, 3, 2, 5, 3, 6, 11, 5, 6, 5, 6, 3, 11, 5, 6, 5, 2, 4, 7, 8, 4, 6, 9, 7, 9, 8, 5, 3, 2, 6, 2, 2, 5, 4, 3, 3, 7, 8, 5, 6, 6, 7, 4, 4, 5, 2, 5, 6, 4, 4, 2, 6, 5, 3, 2, 0, 3, 4, 2, 1, 8, 2, 7, 3, 1, 6, 3, 3, 3, 3, 6, 2, 2, 3, 5, 1, 1, 2, 2, 3, 1, 1, 1, 3, 1, 5, 1, 1, 3, 1, 1, 1, 3, 4, 2, 2, 2, 3, 1, 3, 1, 3, 1, 2, 1, 1, 2, 1, 2, 1, 3, 2, 0, 1, 1, 0, 3, 2, 0, 2, 2, 2, 6, 3, 3, 1, 0, 1, 0, 2, 1, 2, 2, 4, 4, 4, 2, 1, 2, 2, 0, 2, 0, 0, 0, 1, 3, 2, 0, 2, 0, 0, 3, 3, 2, 0, 1, 0, 0, 2, 1, 3, 1, 1, 2, 1, 2, 3, 1, 0, 1, 1, 3, 2, 3, 1, 1, 1, 2, 1, 2, 2, 0, 2, 0, 3, 0, 0, 0, 0, 0, 0, 0, 3, 3, 1, 0, 2, 2, 0, 1, 1, 0, 0, 1, 3, 0, 1, 0, 3, 0, 1, 2, 1, 0, 2, 0, 0, 1, 1, 2, 2, 1, 0, 2, 0, 2, 1, 1, 0, 1, 1, 0, 1, 0, 1, 2, 0, 1, 0, 1, 0, 1, 2, 1, 2, 1, 2, 0, 0, 0, 1, 0, 0, 0, 0, 0, 0, 1, 3, 1, 1, 1, 3, 1, 0, 0, 0, 0, 0, 0, 0, 0, 0, 0, 1, 0, 0, 1, 0, 0, 0, 1, 0, 0, 2, 0, 0, 0, 0, 1, 1, 0, 2, 0, 1, 0, 3, 0, 2, 1, 1, 1, 0, 0, 1, 0, 0, 0, 1, 1, 1, 0, 0, 0, 0, 2, 1, 1, 1, 0, 0, 0, 1, 2, 1, 0, 0, 1, 0, 1, 0, 0, 0, 0, 0, 0, 1, 0, 0, 0, 1, 1, 0, 0, 0, 0, 0, 1, 1, 0, 2, 0, 0, 1, 0, 1, 0, 0, 1, 0, 0, 0, 0, 0, 1, 0, 0, 0, 0, 0, 1, 0, 0, 0, 0, 0, 1, 0, 2, 1, 0, 0, 0, 0, 0, 1, 0, 0, 0, 0, 0, 0, 0, 0, 0, 1, 0, 1, 0, 0, 2, 0, 2, 0, 0, 0, 0, 0, 0, 0, 0, 0, 0, 0, 0, 0, 0, 0, 0, 0, 0, 0, 0, 2, 0, 0, 0, 0, 0, 0, 0, 0, 0, 0, 1, 0, 0, 1, 0, 0, 0, 2, 0, 0, 0, 1, 0, 1, 0, 0, 0, 0, 0, 0, 1, 0, 0, 0, 0, 0, 0, 0, 0, 0, 0, 0, 0, 0, 1, 0, 0, 0, 2, 0, 0, 0, 0, 0, 0, 0, 0, 0, 0, 0, 0, 1, 0, 0, 0, 0, 0, 0, 0, 0, 0, 0, 0, 0, 0, 0, 0, 0, 0, 0, 0, 0, 0, 0, 1, 0, 0, 0, 0, 0, 0, 0, 0, 0, 1, 0, 1, 0, 0, 0, 0, 0, 0, 0, 0, 0, 0, 0, 0, 0, 0, 0, 0, 0, 1, 0, 0, 0, 0, 0, 0, 0, 1, 0, 0, 0, 0, 1, 0, 0, 0, 0, 0, 1, 1, 0, 0, 0, 0, 1, 0, 0, 0, 0, 0, 0, 0, 1, 0, 0, 0, 0, 0, 1, 0, 0, 0, 0, 0, 0, 0, 0, 0, 0, 0, 0, 0, 0, 1, 0, 1, 0, 0, 1, 0, 0, 0, 0, 0, 1, 0, 0, 0, 0, 0, 0, 0, 0, 0, 0, 1, 0, 0, 0, 0, 0, 0, 0, 1, 0, 0, 0, 1, 0, 0, 0, 0, 0, 0, 0, 0, 0, 0, 0, 0, 0, 0, 0, 0, 1, 1, 0, 0, 0, 0, 0, 0, 1, 0, 1, 0, 0, 0, 0, 0, 0, 0, 0, 0, 0, 0, 0, 0, 0, 0, 0, 0, 2, 0, 0, 0, 0, 0, 0, 0, 0, 0, 0, 0, 0, 0, 0, 0, 0, 0, 0, 0, 0, 1, 0, 0, 0, 0, 0, 0, 0, 0, 0, 0, 0, 0, 0, 1, 1, 0, 0, 0, 0, 0, 0, 0, 0, 0, 0, 0, 1, 0, 0, 0, 0, 0, 0, 0, 0, 0, 0, 0, 0, 0, 0, 0, 0, 0, 0, 0, 0, 0, 0, 0, 0, 0, 0, 0, 0, 0, 0, 0, 0, 0, 0, 0, 0, 0, 1, 0, 1]\n",
            "Average clustering coefficient in the BA graph: 0.06081229818727681\n"
          ]
        }
      ]
    },
    {
      "cell_type": "code",
      "source": [
        "# Compute degree distribution\n",
        "degrees = [degree for node, degree in WS.degree()]\n",
        "degree_hist = nx.degree_histogram(WS)\n",
        "\n",
        "# Compute average clustering coefficient\n",
        "avg_clustering = nx.average_clustering(WS)\n",
        "\n",
        "print(f'Degree distribution in the WS graph: {degree_hist}')\n",
        "print(f'Average clustering coefficient in the WS graph: {avg_clustering}')"
      ],
      "metadata": {
        "colab": {
          "base_uri": "https://localhost:8080/"
        },
        "id": "wFVhTCWCJm5m",
        "outputId": "e62a0e8e-e80c-4913-e624-900ada0914ed"
      },
      "execution_count": null,
      "outputs": [
        {
          "output_type": "stream",
          "name": "stdout",
          "text": [
            "Degree distribution in the WS graph: [0, 0, 0, 0, 0, 0, 0, 0, 0, 0, 0, 0, 0, 0, 0, 0, 0, 0, 0, 1, 2, 9, 33, 60, 128, 186, 330, 430, 596, 602, 638, 598, 469, 386, 298, 195, 119, 75, 40, 17, 18, 5, 4, 1, 1, 1]\n",
            "Average clustering coefficient in the WS graph: 0.09494031428955452\n"
          ]
        }
      ]
    },
    {
      "cell_type": "code",
      "source": [
        "graph_transitivity = nx.transitivity(G)\n",
        "print(f\"The transitivity of the G graph is: {graph_transitivity}\")"
      ],
      "metadata": {
        "colab": {
          "base_uri": "https://localhost:8080/"
        },
        "id": "4EydQcuzJqwX",
        "outputId": "7b29c265-7de1-481e-a5a5-52042d69e3be"
      },
      "execution_count": null,
      "outputs": [
        {
          "output_type": "stream",
          "name": "stdout",
          "text": [
            "The transitivity of the G graph is: 0.6298424741263426\n"
          ]
        }
      ]
    },
    {
      "cell_type": "code",
      "source": [
        "graph_transitivity = nx.transitivity(ER)\n",
        "print(f\"The transitivity of the ER graph is: {graph_transitivity}\")"
      ],
      "metadata": {
        "colab": {
          "base_uri": "https://localhost:8080/"
        },
        "id": "XhaI23CGJvSt",
        "outputId": "9515ad62-72b1-4342-a022-1fb8f3c762e5"
      },
      "execution_count": null,
      "outputs": [
        {
          "output_type": "stream",
          "name": "stdout",
          "text": [
            "The transitivity of the ER graph is: 0.0021464029627294933\n"
          ]
        }
      ]
    },
    {
      "cell_type": "code",
      "source": [
        "graph_transitivity = nx.transitivity(WS)\n",
        "print(f\"The transitivity of the WS graph is: {graph_transitivity}\")"
      ],
      "metadata": {
        "colab": {
          "base_uri": "https://localhost:8080/"
        },
        "id": "W9o6YrajJwwR",
        "outputId": "a7f8d1e2-9720-4777-eae2-f31dbe760713"
      },
      "execution_count": null,
      "outputs": [
        {
          "output_type": "stream",
          "name": "stdout",
          "text": [
            "The transitivity of the WS graph is: 0.09349755601423136\n"
          ]
        }
      ]
    },
    {
      "cell_type": "code",
      "source": [
        "graph_transitivity = nx.transitivity(BA)\n",
        "print(f\"The transitivity of the BA graph is: {graph_transitivity}\")"
      ],
      "metadata": {
        "colab": {
          "base_uri": "https://localhost:8080/"
        },
        "id": "Qh3wmPoyJzhR",
        "outputId": "aa81ceda-9475-4eed-b786-ddca401aa4a0"
      },
      "execution_count": null,
      "outputs": [
        {
          "output_type": "stream",
          "name": "stdout",
          "text": [
            "The transitivity of the BA graph is: 0.061072579841653804\n"
          ]
        }
      ]
    }
  ]
}