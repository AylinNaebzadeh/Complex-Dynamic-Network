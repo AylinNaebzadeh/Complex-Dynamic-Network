{
  "nbformat": 4,
  "nbformat_minor": 0,
  "metadata": {
    "colab": {
      "provenance": []
    },
    "kernelspec": {
      "name": "python3",
      "display_name": "Python 3"
    },
    "language_info": {
      "name": "python"
    }
  },
  "cells": [
    {
      "cell_type": "code",
      "execution_count": 1,
      "metadata": {
        "id": "zVN-tJHO_Muh"
      },
      "outputs": [],
      "source": [
        "import networkx as nx\n",
        "import pandas as pd\n",
        "import matplotlib.pyplot as plt\n",
        "import statistics\n",
        "from itertools import chain\n",
        "from collections import Counter\n",
        "from operator import itemgetter\n",
        "import pickle\n",
        "import json"
      ]
    },
    {
      "cell_type": "code",
      "source": [
        "G = nx.read_edgelist(\"Wiki-Vote.txt\", nodetype=int, create_using=nx.DiGraph(), comments='#')\n",
        "number_of_nodes = G.number_of_nodes()\n",
        "number_of_edges = G.number_of_edges()\n",
        "print(f\"The number of nodes in the graph network is: {number_of_nodes}\")\n",
        "print(f\"The number of edges in the graph network is: {number_of_edges}\")"
      ],
      "metadata": {
        "colab": {
          "base_uri": "https://localhost:8080/"
        },
        "id": "2dgpVlqU_-tO",
        "outputId": "f2075f5f-040e-40aa-cb4b-17ededbb9db7"
      },
      "execution_count": 2,
      "outputs": [
        {
          "output_type": "stream",
          "name": "stdout",
          "text": [
            "The number of nodes in the graph network is: 7115\n",
            "The number of edges in the graph network is: 103689\n"
          ]
        }
      ]
    },
    {
      "cell_type": "code",
      "source": [
        "# Fit the models\n",
        "n = len(G.nodes())\n",
        "m = len(G.edges())\n",
        "p = 2 * m / (n * (n - 1))\n",
        "\n",
        "ER = nx.erdos_renyi_graph(n, p)\n",
        "WS = nx.watts_strogatz_graph(n, 30, 0.65)\n",
        "BA = nx.barabasi_albert_graph(n, 30)"
      ],
      "metadata": {
        "id": "cgy58yk0AAIl"
      },
      "execution_count": 4,
      "outputs": []
    },
    {
      "cell_type": "code",
      "source": [
        "# Plot the graphs\n",
        "plt.figure(figsize=(15, 5))\n",
        "plt.subplot(131)\n",
        "nx.draw(ER, with_labels=True)\n",
        "plt.title('Erdős–Rényi')\n",
        "\n",
        "plt.subplot(132)\n",
        "nx.draw(WS, with_labels=True)\n",
        "plt.title('Watts-Strogatz')\n",
        "\n",
        "plt.subplot(133)\n",
        "nx.draw(BA, with_labels=True)\n",
        "plt.title('Barabási-Albert')\n",
        "\n",
        "plt.show()"
      ],
      "metadata": {
        "id": "ySPKeWEhAZep"
      },
      "execution_count": null,
      "outputs": []
    },
    {
      "cell_type": "code",
      "source": [
        "# Compute degree distribution\n",
        "degrees = [degree for node, degree in G.degree()]\n",
        "degree_hist = nx.degree_histogram(G)\n",
        "\n",
        "# Compute average clustering coefficient\n",
        "avg_clustering = nx.average_clustering(G)\n",
        "\n",
        "print(f'Degree distribution in the main graph: {degree_hist}')\n",
        "print(f'Average clustering coefficient in the main graph: {avg_clustering}')"
      ],
      "metadata": {
        "colab": {
          "base_uri": "https://localhost:8080/"
        },
        "id": "5RDnRxAoAsnn",
        "outputId": "d967c5be-7c50-4bed-c9df-c2a03afdbe50"
      },
      "execution_count": 6,
      "outputs": [
        {
          "output_type": "stream",
          "name": "stdout",
          "text": [
            "Degree distribution in the main graph: [0, 2315, 640, 388, 245, 165, 159, 139, 111, 89, 110, 85, 91, 66, 66, 57, 52, 47, 54, 36, 44, 43, 38, 28, 37, 28, 36, 30, 40, 39, 30, 33, 28, 26, 26, 22, 19, 25, 21, 31, 21, 33, 27, 22, 26, 28, 27, 28, 30, 22, 26, 24, 28, 15, 23, 21, 17, 31, 24, 15, 25, 24, 17, 14, 18, 12, 20, 17, 17, 15, 20, 16, 17, 15, 11, 15, 15, 20, 11, 12, 15, 16, 10, 6, 11, 6, 5, 12, 7, 16, 15, 9, 11, 8, 10, 9, 7, 8, 9, 6, 9, 9, 9, 6, 5, 5, 3, 7, 8, 8, 3, 7, 10, 5, 7, 5, 8, 6, 6, 7, 6, 11, 11, 3, 9, 5, 7, 2, 6, 5, 5, 2, 1, 0, 5, 3, 4, 6, 2, 4, 4, 2, 3, 5, 5, 4, 6, 4, 2, 3, 7, 4, 2, 2, 2, 0, 5, 4, 2, 3, 6, 3, 5, 1, 1, 3, 2, 0, 1, 2, 3, 3, 1, 6, 1, 5, 3, 2, 2, 0, 0, 1, 1, 3, 1, 2, 4, 2, 4, 4, 2, 2, 2, 3, 0, 7, 0, 1, 0, 3, 1, 0, 1, 1, 1, 1, 1, 1, 4, 1, 1, 3, 2, 5, 1, 2, 1, 2, 1, 4, 0, 1, 0, 2, 2, 1, 2, 1, 1, 0, 4, 1, 0, 1, 0, 0, 0, 0, 2, 0, 2, 2, 1, 2, 1, 1, 0, 0, 5, 0, 4, 0, 0, 1, 3, 3, 0, 1, 0, 0, 1, 1, 0, 0, 0, 0, 1, 1, 0, 0, 1, 2, 0, 1, 1, 2, 1, 1, 0, 2, 3, 2, 1, 2, 1, 0, 1, 0, 1, 0, 0, 1, 2, 1, 0, 0, 0, 1, 1, 0, 1, 1, 0, 0, 0, 1, 0, 0, 0, 2, 0, 0, 0, 0, 2, 0, 0, 1, 3, 1, 1, 0, 2, 0, 0, 0, 0, 0, 0, 0, 0, 1, 0, 0, 3, 0, 0, 0, 1, 0, 0, 0, 0, 0, 0, 0, 0, 0, 0, 0, 0, 0, 1, 0, 1, 0, 0, 0, 0, 0, 0, 2, 1, 1, 0, 0, 0, 0, 1, 0, 0, 0, 0, 0, 0, 1, 0, 0, 0, 0, 0, 0, 0, 0, 1, 1, 1, 0, 0, 0, 0, 0, 0, 0, 0, 0, 0, 0, 1, 1, 0, 0, 1, 1, 0, 0, 0, 0, 0, 1, 0, 1, 0, 0, 0, 0, 0, 0, 0, 1, 0, 0, 1, 0, 0, 0, 1, 0, 1, 0, 0, 1, 0, 0, 0, 0, 1, 0, 0, 0, 0, 0, 0, 0, 1, 0, 0, 0, 0, 0, 0, 0, 0, 0, 0, 0, 0, 0, 0, 0, 0, 0, 0, 1, 1, 0, 0, 0, 0, 0, 0, 0, 1, 0, 0, 0, 0, 0, 0, 0, 0, 1, 0, 0, 1, 0, 0, 0, 0, 0, 0, 0, 0, 0, 0, 0, 0, 0, 0, 0, 0, 0, 0, 0, 0, 0, 0, 0, 0, 0, 0, 0, 0, 0, 0, 0, 0, 0, 0, 0, 0, 0, 0, 0, 0, 0, 0, 0, 0, 0, 0, 0, 0, 0, 0, 0, 0, 1, 1, 0, 0, 0, 0, 1, 0, 0, 0, 0, 0, 0, 0, 1, 0, 0, 0, 0, 0, 0, 0, 0, 0, 0, 0, 0, 0, 0, 0, 0, 0, 0, 0, 0, 0, 0, 0, 0, 0, 0, 0, 0, 0, 0, 0, 0, 0, 0, 0, 0, 0, 0, 0, 0, 0, 0, 0, 0, 0, 0, 0, 0, 0, 0, 0, 0, 0, 0, 0, 0, 0, 0, 0, 0, 0, 0, 0, 0, 0, 0, 1, 0, 0, 0, 0, 0, 0, 0, 0, 0, 0, 0, 0, 0, 0, 0, 0, 0, 0, 0, 0, 0, 0, 0, 0, 0, 0, 0, 0, 0, 0, 0, 0, 0, 0, 0, 0, 0, 0, 0, 0, 0, 0, 0, 0, 0, 0, 0, 0, 0, 0, 0, 0, 0, 0, 0, 0, 0, 0, 0, 0, 0, 0, 0, 0, 0, 0, 0, 0, 0, 0, 0, 0, 0, 0, 0, 0, 0, 0, 0, 0, 0, 0, 0, 0, 0, 0, 0, 0, 0, 0, 0, 0, 0, 0, 0, 0, 0, 0, 0, 0, 0, 0, 0, 0, 0, 0, 0, 0, 0, 0, 0, 0, 0, 1, 0, 0, 0, 0, 0, 0, 0, 0, 0, 0, 2, 0, 0, 0, 0, 0, 0, 0, 0, 0, 0, 0, 0, 0, 0, 0, 0, 0, 0, 0, 0, 0, 0, 0, 0, 0, 0, 0, 0, 0, 1, 0, 0, 0, 0, 0, 0, 0, 0, 0, 0, 0, 0, 0, 0, 0, 0, 0, 0, 0, 0, 0, 0, 0, 0, 0, 0, 0, 0, 0, 0, 0, 0, 0, 0, 0, 0, 0, 0, 0, 0, 0, 0, 0, 0, 0, 0, 0, 0, 0, 0, 0, 0, 0, 0, 0, 0, 0, 0, 1, 0, 0, 0, 0, 0, 0, 0, 0, 0, 0, 0, 0, 0, 0, 0, 0, 0, 0, 0, 0, 0, 0, 0, 0, 0, 0, 0, 0, 0, 0, 0, 0, 0, 0, 0, 0, 0, 0, 0, 0, 0, 0, 0, 0, 0, 0, 0, 0, 0, 0, 0, 0, 0, 0, 0, 0, 0, 0, 0, 0, 0, 0, 0, 0, 0, 0, 0, 0, 0, 0, 0, 0, 0, 0, 0, 0, 0, 0, 0, 0, 0, 0, 0, 0, 0, 0, 0, 0, 0, 0, 0, 0, 0, 0, 0, 0, 0, 0, 0, 0, 0, 0, 0, 0, 0, 0, 0, 0, 0, 0, 0, 0, 0, 0, 0, 0, 0, 0, 0, 0, 0, 0, 0, 0, 0, 0, 0, 0, 0, 0, 0, 0, 0, 0, 0, 0, 0, 0, 0, 0, 0, 0, 0, 0, 0, 0, 0, 0, 0, 0, 0, 0, 0, 0, 0, 0, 0, 0, 0, 0, 0, 0, 0, 0, 0, 0, 0, 0, 0, 0, 0, 0, 0, 0, 0, 0, 0, 0, 0, 0, 0, 0, 0, 0, 0, 0, 0, 0, 0, 0, 0, 0, 0, 0, 0, 0, 0, 0, 0, 0, 0, 0, 0, 0, 0, 0, 0, 0, 0, 0, 0, 0, 0, 0, 0, 0, 0, 0, 0, 0, 0, 0, 0, 0, 0, 0, 0, 0, 0, 0, 0, 0, 0, 0, 0, 0, 0, 0, 0, 0, 0, 0, 0, 0, 0, 0, 0, 0, 0, 0, 0, 0, 0, 0, 0, 0, 0, 0, 0, 0, 0, 0, 0, 0, 0, 0, 0, 0, 0, 0, 0, 0, 0, 0, 0, 0, 0, 0, 0, 0, 0, 0, 0, 0, 0, 0, 0, 0, 0, 0, 0, 0, 0, 0, 0, 0, 0, 0, 0, 0, 0, 0, 0, 0, 0, 0, 0, 0, 0, 0, 0, 0, 0, 0, 0, 0, 0, 0, 0, 0, 0, 0, 0, 0, 0, 0, 0, 0, 0, 0, 0, 0, 0, 0, 1]\n",
            "Average clustering coefficient in the main graph: 0.08156344522820935\n"
          ]
        }
      ]
    },
    {
      "cell_type": "code",
      "source": [
        "# Compute degree distribution\n",
        "degrees = [degree for node, degree in ER.degree()]\n",
        "degree_hist = nx.degree_histogram(ER)\n",
        "\n",
        "# Compute average clustering coefficient\n",
        "avg_clustering = nx.average_clustering(ER)\n",
        "\n",
        "print(f'Degree distribution in the ER graph: {degree_hist}')\n",
        "print(f'Average clustering coefficient in the ER graph: {avg_clustering}')"
      ],
      "metadata": {
        "colab": {
          "base_uri": "https://localhost:8080/"
        },
        "id": "cqzkF5bYAyQg",
        "outputId": "8cc2445b-9da3-449d-b6f1-99e3ba3fc921"
      },
      "execution_count": 7,
      "outputs": [
        {
          "output_type": "stream",
          "name": "stdout",
          "text": [
            "Degree distribution in the ER graph: [0, 0, 0, 0, 0, 0, 0, 0, 0, 0, 0, 0, 2, 2, 5, 12, 21, 32, 51, 91, 165, 162, 239, 301, 374, 445, 465, 497, 481, 506, 494, 470, 441, 402, 354, 269, 229, 159, 120, 87, 86, 47, 33, 28, 20, 3, 11, 3, 5, 1, 1, 0, 0, 1]\n",
            "Average clustering coefficient in the ER graph: 0.004155565319610783\n"
          ]
        }
      ]
    },
    {
      "cell_type": "code",
      "source": [
        "# Compute degree distribution\n",
        "degrees = [degree for node, degree in BA.degree()]\n",
        "degree_hist = nx.degree_histogram(BA)\n",
        "\n",
        "# Compute average clustering coefficient\n",
        "avg_clustering = nx.average_clustering(BA)\n",
        "\n",
        "print(f'Degree distribution in the BA graph: {degree_hist}')\n",
        "print(f'Average clustering coefficient in the BA graph: {avg_clustering}')"
      ],
      "metadata": {
        "colab": {
          "base_uri": "https://localhost:8080/"
        },
        "id": "F6ec__qXA0zc",
        "outputId": "27f41287-fa28-434d-8dfb-0ae2bf347829"
      },
      "execution_count": 8,
      "outputs": [
        {
          "output_type": "stream",
          "name": "stdout",
          "text": [
            "Degree distribution in the BA graph: [0, 0, 0, 0, 0, 0, 0, 0, 0, 0, 0, 0, 0, 0, 0, 0, 0, 0, 0, 0, 0, 0, 0, 0, 0, 0, 0, 0, 0, 0, 430, 419, 372, 362, 317, 266, 270, 216, 200, 186, 195, 200, 164, 163, 155, 145, 118, 131, 113, 96, 94, 103, 93, 91, 79, 68, 61, 53, 63, 56, 54, 50, 46, 70, 34, 50, 44, 48, 36, 45, 31, 43, 28, 32, 35, 33, 40, 17, 27, 28, 23, 21, 20, 23, 21, 22, 19, 15, 16, 11, 16, 13, 13, 22, 9, 15, 12, 14, 13, 19, 16, 17, 11, 16, 12, 9, 15, 12, 13, 5, 10, 10, 9, 10, 12, 3, 4, 11, 8, 7, 5, 5, 11, 5, 5, 6, 5, 5, 8, 5, 6, 6, 9, 7, 3, 6, 4, 4, 7, 2, 5, 5, 5, 6, 5, 4, 5, 6, 3, 3, 5, 4, 7, 1, 4, 5, 5, 8, 5, 1, 5, 4, 3, 1, 6, 1, 5, 2, 3, 4, 4, 2, 1, 1, 0, 4, 1, 0, 4, 1, 3, 1, 4, 1, 2, 3, 2, 1, 2, 3, 5, 2, 4, 2, 1, 3, 2, 2, 0, 2, 1, 1, 1, 0, 1, 1, 3, 4, 0, 2, 0, 3, 1, 2, 5, 0, 4, 3, 1, 1, 1, 0, 0, 0, 1, 0, 1, 0, 1, 2, 2, 1, 2, 0, 1, 1, 2, 0, 0, 3, 3, 1, 1, 0, 3, 0, 1, 1, 1, 0, 2, 0, 0, 1, 0, 3, 0, 2, 0, 0, 0, 1, 1, 2, 1, 1, 1, 3, 1, 0, 1, 0, 0, 1, 0, 1, 2, 2, 1, 0, 1, 1, 0, 0, 1, 0, 0, 0, 2, 0, 1, 0, 0, 0, 0, 1, 2, 3, 1, 1, 0, 1, 0, 1, 1, 1, 1, 1, 2, 0, 3, 1, 0, 0, 0, 0, 1, 1, 0, 1, 0, 0, 2, 0, 0, 0, 0, 1, 2, 0, 1, 0, 1, 0, 2, 1, 0, 0, 0, 1, 1, 0, 0, 0, 0, 0, 0, 1, 0, 0, 3, 2, 0, 0, 1, 0, 0, 0, 0, 1, 0, 0, 1, 0, 1, 1, 0, 1, 1, 0, 0, 0, 1, 0, 1, 1, 0, 0, 1, 0, 0, 1, 0, 0, 0, 0, 0, 1, 0, 0, 0, 1, 0, 1, 0, 0, 0, 0, 0, 0, 0, 1, 0, 1, 2, 0, 0, 0, 0, 1, 0, 0, 0, 0, 0, 0, 0, 0, 1, 0, 1, 0, 0, 0, 0, 0, 0, 1, 1, 0, 1, 0, 0, 1, 0, 0, 0, 1, 0, 0, 0, 0, 0, 0, 0, 0, 0, 0, 0, 0, 1, 0, 0, 0, 0, 0, 0, 0, 0, 0, 0, 0, 0, 0, 0, 0, 0, 0, 0, 1, 0, 0, 0, 0, 0, 0, 0, 0, 0, 0, 0, 0, 0, 0, 0, 0, 0, 0, 0, 0, 1, 1, 0, 1, 0, 0, 0, 1, 0, 0, 0, 0, 0, 0, 1, 0, 0, 1, 0, 1, 1, 0, 0, 1, 0, 0, 0, 0, 0, 0, 0, 0, 0, 1, 0, 0, 0, 1, 0, 0, 1, 0, 1, 0, 0, 0, 0, 0, 0, 0, 0, 0, 0, 0, 0, 0, 0, 0, 1, 0, 0, 0, 1, 1, 0, 0, 0, 0, 1, 0, 0, 0, 0, 0, 0, 0, 0, 0, 0, 1, 0, 0, 0, 0, 0, 0, 0, 0, 0, 0, 0, 0, 0, 0, 0, 0, 0, 0, 0, 0, 0, 0, 0, 0, 0, 1, 0, 0, 0, 0, 0, 0, 1, 0, 0, 0, 0, 0, 0, 0, 0, 0, 0, 0, 0, 0, 1, 0, 0, 0, 0, 0, 0, 0, 0, 0, 0, 0, 0, 0, 0, 0, 0, 0, 0, 0, 0, 0, 0, 0, 0, 0, 0, 0, 0, 0, 0, 0, 0, 0, 0, 0, 0, 0, 0, 0, 0, 0, 0, 1, 0, 0, 0, 0, 0, 0, 0, 0, 0, 0, 0, 0, 0, 1, 0, 0, 0, 0, 0, 0, 0, 0, 0, 0, 0, 0, 0, 0, 0, 0, 0, 0, 0, 0, 0, 0, 0, 0, 0, 0, 1, 0, 0, 0, 0, 0, 0, 0, 0, 0, 0, 0, 0, 1, 0, 0, 0, 0, 0, 0, 0, 0, 0, 0, 0, 0, 0, 0, 0, 0, 0, 0, 0, 0, 0, 0, 0, 0, 0, 0, 1, 0, 0, 0, 0, 0, 0, 0, 0, 0, 0, 0, 0, 0, 0, 0, 0, 0, 0, 0, 0, 0, 0, 0, 0, 0, 0, 0, 0, 0, 0, 0, 0, 0, 0, 0, 0, 0, 0, 0, 0, 0, 0, 0, 0, 0, 0, 0, 0, 0, 0, 0, 1, 0, 0, 0, 0, 0, 0, 0, 0, 0, 0, 0, 0, 0, 0, 0, 0, 1, 1]\n",
            "Average clustering coefficient in the BA graph: 0.03129636452099777\n"
          ]
        }
      ]
    },
    {
      "cell_type": "code",
      "source": [
        "# Compute degree distribution\n",
        "degrees = [degree for node, degree in WS.degree()]\n",
        "degree_hist = nx.degree_histogram(WS)\n",
        "\n",
        "# Compute average clustering coefficient\n",
        "avg_clustering = nx.average_clustering(WS)\n",
        "\n",
        "print(f'Degree distribution in the WS graph: {degree_hist}')\n",
        "print(f'Average clustering coefficient in the WS graph: {avg_clustering}')"
      ],
      "metadata": {
        "colab": {
          "base_uri": "https://localhost:8080/"
        },
        "id": "G8prnja2A5eR",
        "outputId": "b4aabd93-675e-4f4a-b347-c9be2f312800"
      },
      "execution_count": 9,
      "outputs": [
        {
          "output_type": "stream",
          "name": "stdout",
          "text": [
            "Degree distribution in the WS graph: [0, 0, 0, 0, 0, 0, 0, 0, 0, 0, 0, 0, 0, 0, 0, 0, 0, 0, 0, 1, 6, 27, 47, 112, 186, 336, 477, 581, 734, 764, 815, 717, 616, 527, 390, 278, 197, 126, 82, 41, 33, 13, 6, 3]\n",
            "Average clustering coefficient in the WS graph: 0.03386111610471418\n"
          ]
        }
      ]
    },
    {
      "cell_type": "code",
      "source": [
        "graph_transitivity = nx.transitivity(G)\n",
        "print(f\"The transitivity of the G graph is: {graph_transitivity}\")"
      ],
      "metadata": {
        "colab": {
          "base_uri": "https://localhost:8080/"
        },
        "id": "LVGPUcHwBRfd",
        "outputId": "6503bfad-01be-4616-cf1e-17e19b72bc91"
      },
      "execution_count": 10,
      "outputs": [
        {
          "output_type": "stream",
          "name": "stdout",
          "text": [
            "The transitivity of the G graph is: 0.05285122817867548\n"
          ]
        }
      ]
    },
    {
      "cell_type": "code",
      "source": [
        "graph_transitivity = nx.transitivity(ER)\n",
        "print(f\"The transitivity of the ER graph is: {graph_transitivity}\")"
      ],
      "metadata": {
        "colab": {
          "base_uri": "https://localhost:8080/"
        },
        "id": "swKGKLHLBZJ-",
        "outputId": "2e0112cd-b70d-4368-fb03-f2f5afa0b100"
      },
      "execution_count": 11,
      "outputs": [
        {
          "output_type": "stream",
          "name": "stdout",
          "text": [
            "The transitivity of the ER graph is: 0.004150909876650408\n"
          ]
        }
      ]
    },
    {
      "cell_type": "code",
      "source": [
        "graph_transitivity = nx.transitivity(WS)\n",
        "print(f\"The transitivity of the WS graph is: {graph_transitivity}\")"
      ],
      "metadata": {
        "colab": {
          "base_uri": "https://localhost:8080/"
        },
        "id": "5FVQGKSkBbYY",
        "outputId": "7fd1aecc-3c97-46c0-f038-3e9ef78b6b0b"
      },
      "execution_count": 12,
      "outputs": [
        {
          "output_type": "stream",
          "name": "stdout",
          "text": [
            "The transitivity of the WS graph is: 0.03343486720795428\n"
          ]
        }
      ]
    },
    {
      "cell_type": "code",
      "source": [
        "graph_transitivity = nx.transitivity(BA)\n",
        "print(f\"The transitivity of the BA graph is: {graph_transitivity}\")"
      ],
      "metadata": {
        "colab": {
          "base_uri": "https://localhost:8080/"
        },
        "id": "WoMch7duBfdx",
        "outputId": "f66fde68-db6c-4018-835c-16c1fe38a3cd"
      },
      "execution_count": 13,
      "outputs": [
        {
          "output_type": "stream",
          "name": "stdout",
          "text": [
            "The transitivity of the BA graph is: 0.03031722103174939\n"
          ]
        }
      ]
    }
  ]
}